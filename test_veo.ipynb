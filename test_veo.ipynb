{
 "cells": [
  {
   "cell_type": "markdown",
   "metadata": {},
   "source": [
    "# 🎥 Test génération vidéo avec OpenAI VEO\n",
    "\n",
    "Ce notebook permet de tester rapidement la génération de vidéos avec l'API OpenAI (modèle `gpt-4o-mini-2024-08`).\n",
    "\n",
    "⚠️ **Note importante** :\n",
    "- Ne mets jamais ta clé API directement dans le code.\n",
    "- Utilise une variable d'environnement ou la saisis de façon sécurisée."
   ]
  },
  {
   "cell_type": "code",
   "execution_count": null,
   "metadata": {},
   "outputs": [],
   "source": [
    "from openai import OpenAI\n",
    "import os\n",
    "\n",
    "# Initialisation du client avec la clé API stockée dans les variables d'environnement\n",
    "client = OpenAI(api_key=os.getenv(\"OPENAI_API_KEY\"))\n",
    "\n",
    "# Exemple de génération de vidéo\n",
    "prompt = \"Un coucher de soleil sur une plage avec des vagues animées\"\n",
    "\n",
    "result = client.chat.completions.create(\n",
    "    model=\"gpt-4o-mini-2024-08\",\n",
    "    messages=[{\"role\": \"user\", \"content\": prompt}]\n",
    ")\n",
    "\n",
    "print(result.choices[0].message)"
   ]
  }
 ],
 "metadata": {
  "kernelspec": {
   "display_name": "Python 3",
   "language": "python",
   "name": "python3"
  },
  "language_info": {
   "name": "python",
   "version": "3.10"
  }
 },
 "nbformat": 4,
 "nbformat_minor": 5
}
