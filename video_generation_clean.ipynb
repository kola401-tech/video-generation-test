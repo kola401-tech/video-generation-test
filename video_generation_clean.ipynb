{
 "cells": [
  {
   "cell_type": "markdown",
   "id": "4d00f249",
   "metadata": {},
   "source": [
    "# 🚀 Video Generation Test - Hugging Face\n",
    "Notebook prêt-à-lancer dans Google Colab.\n",
    "\n",
    "⚠️ Plus besoin de clé OpenAI, on utilise un modèle open-source Hugging Face."
   ]
  },
  {
   "cell_type": "code",
   "execution_count": null,
   "id": "4f3bd632",
   "metadata": {},
   "outputs": [],
   "source": [
    "\n",
    "# 1. Installer les dépendances\n",
    "!pip install torch torchvision torchaudio --index-url https://download.pytorch.org/whl/cu118\n",
    "!pip install diffusers transformers accelerate safetensors\n"
   ]
  },
  {
   "cell_type": "code",
   "execution_count": null,
   "id": "f44ab1c8",
   "metadata": {},
   "outputs": [],
   "source": [
    "\n",
    "# 2. Importer les librairies\n",
    "import torch\n",
    "from diffusers import DiffusionPipeline\n",
    "from diffusers.utils import export_to_video\n",
    "from IPython.display import Video\n"
   ]
  },
  {
   "cell_type": "code",
   "execution_count": null,
   "id": "bde872fb",
   "metadata": {},
   "outputs": [],
   "source": [
    "\n",
    "# 3. Charger le modèle Hugging Face\n",
    "pipe = DiffusionPipeline.from_pretrained(\n",
    "    \"damo-vilab/text-to-video-ms-1.7b\",\n",
    "    torch_dtype=torch.float16\n",
    ")\n",
    "pipe = pipe.to(\"cuda\")  # utilise GPU si dispo\n"
   ]
  },
  {
   "cell_type": "code",
   "execution_count": null,
   "id": "eafefa6f",
   "metadata": {},
   "outputs": [],
   "source": [
    "\n",
    "# 4. Générer une vidéo à partir d’un prompt\n",
    "prompt = \"Un coucher de soleil sur une plage avec des vagues animées\"\n",
    "video_frames = pipe(prompt, num_inference_steps=25).frames\n"
   ]
  },
  {
   "cell_type": "code",
   "execution_count": null,
   "id": "169d8fbb",
   "metadata": {},
   "outputs": [],
   "source": [
    "\n",
    "# 5. Exporter et afficher la vidéo\n",
    "export_to_video(video_frames, \"video.mp4\")\n",
    "Video(\"video.mp4\", embed=True)\n"
   ]
  }
 ],
 "metadata": {},
 "nbformat": 4,
 "nbformat_minor": 5
}
